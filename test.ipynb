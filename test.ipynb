{
 "cells": [
  {
   "cell_type": "code",
   "execution_count": 11,
   "metadata": {},
   "outputs": [
    {
     "name": "stdout",
     "output_type": "stream",
     "text": [
      "현재 시간 :  2023-03-03 15:59:49.264272\n"
     ]
    }
   ],
   "source": [
    "from datetime import datetime\n",
    "\n",
    "now = datetime.now()\n",
    "print(\"현재 시간 : \", now.date())\n"
   ]
  },
  {
   "cell_type": "code",
   "execution_count": 1,
   "metadata": {},
   "outputs": [
    {
     "name": "stdout",
     "output_type": "stream",
     "text": [
      "1.13.1\n",
      "False\n"
     ]
    }
   ],
   "source": [
    "import torch\n",
    "print(torch.__version__)\n",
    "print(torch.cuda.is_available())"
   ]
  },
  {
   "cell_type": "code",
   "execution_count": 2,
   "metadata": {},
   "outputs": [
    {
     "name": "stdout",
     "output_type": "stream",
     "text": [
      "tensor([1, 2])\n",
      "tensor([[0.3193, 0.6005, 0.4830],\n",
      "        [0.7246, 0.4974, 0.6459]])\n",
      "tensor([[0, 0, 0],\n",
      "        [0, 0, 0]])\n",
      "tensor([[1, 1, 1],\n",
      "        [1, 1, 1]])\n",
      "tensor([[-0.0231,  1.0742, -0.8501],\n",
      "        [-1.0221,  0.2391, -1.6052]])\n"
     ]
    }
   ],
   "source": [
    "#기본 연산 단위\n",
    "x = torch.tensor([1,2])\n",
    "print(x)\n",
    "x = torch.rand(2,3)\n",
    "print(x)\n",
    "x = torch.zeros(2,3,dtype = torch.long)\n",
    "print(x)\n",
    "x = torch.ones(2,3,dtype = torch.long)\n",
    "print(x)\n",
    "x = torch.randn_like(x, dtype = torch.float)\n",
    "print(x)"
   ]
  },
  {
   "cell_type": "code",
   "execution_count": 3,
   "metadata": {},
   "outputs": [
    {
     "data": {
      "text/plain": [
       "tensor([[ 0.9769,  2.0742,  0.1499],\n",
       "        [-0.0221,  1.2391, -0.6052]])"
      ]
     },
     "execution_count": 3,
     "metadata": {},
     "output_type": "execute_result"
    }
   ],
   "source": [
    "#torch 연산\n",
    "y = torch.ones(2,3)\n",
    "y.add(x)\n",
    "y.add_(x) # add_ : y = y.add(x)로 대체한다.\n",
    "y"
   ]
  },
  {
   "cell_type": "code",
   "execution_count": 4,
   "metadata": {},
   "outputs": [
    {
     "data": {
      "text/plain": [
       "tensor(-0.6052)"
      ]
     },
     "execution_count": 4,
     "metadata": {},
     "output_type": "execute_result"
    }
   ],
   "source": [
    "y[1,2]#인덱싱"
   ]
  },
  {
   "cell_type": "code",
   "execution_count": 5,
   "metadata": {},
   "outputs": [
    {
     "name": "stdout",
     "output_type": "stream",
     "text": [
      "tensor([0.9784, 0.0495, 0.1820, 0.8444, 0.8173, 0.3654, 0.1802, 0.1195, 0.7152,\n",
      "        0.4156, 0.4489, 0.8234, 0.4437, 0.6311, 0.8303, 0.7355, 0.3254, 0.8429,\n",
      "        0.2684, 0.3006, 0.6270, 0.7991, 0.3113, 0.4940, 0.7805, 0.5640, 0.4319,\n",
      "        0.5255, 0.0519, 0.9494, 0.5135, 0.5339, 0.8242, 0.8730, 0.2129, 0.9065,\n",
      "        0.9342, 0.3878, 0.4950, 0.7324, 0.1599, 0.6573, 0.2499, 0.7579, 0.6039,\n",
      "        0.6597, 0.2637, 0.9509, 0.9530, 0.5399, 0.1865, 0.9204, 0.9100, 0.2500,\n",
      "        0.2247, 0.9629, 0.1206, 0.2796, 0.3885, 0.2127, 0.6636, 0.4561, 0.1468,\n",
      "        0.9534])\n",
      "tensor([[0.9784, 0.0495, 0.1820, 0.8444, 0.8173, 0.3654, 0.1802, 0.1195, 0.7152,\n",
      "         0.4156, 0.4489, 0.8234, 0.4437, 0.6311, 0.8303, 0.7355],\n",
      "        [0.3254, 0.8429, 0.2684, 0.3006, 0.6270, 0.7991, 0.3113, 0.4940, 0.7805,\n",
      "         0.5640, 0.4319, 0.5255, 0.0519, 0.9494, 0.5135, 0.5339],\n",
      "        [0.8242, 0.8730, 0.2129, 0.9065, 0.9342, 0.3878, 0.4950, 0.7324, 0.1599,\n",
      "         0.6573, 0.2499, 0.7579, 0.6039, 0.6597, 0.2637, 0.9509],\n",
      "        [0.9530, 0.5399, 0.1865, 0.9204, 0.9100, 0.2500, 0.2247, 0.9629, 0.1206,\n",
      "         0.2796, 0.3885, 0.2127, 0.6636, 0.4561, 0.1468, 0.9534]])\n",
      "tensor([[[0.9784, 0.0495],\n",
      "         [0.1820, 0.8444],\n",
      "         [0.8173, 0.3654],\n",
      "         [0.1802, 0.1195]],\n",
      "\n",
      "        [[0.7152, 0.4156],\n",
      "         [0.4489, 0.8234],\n",
      "         [0.4437, 0.6311],\n",
      "         [0.8303, 0.7355]],\n",
      "\n",
      "        [[0.3254, 0.8429],\n",
      "         [0.2684, 0.3006],\n",
      "         [0.6270, 0.7991],\n",
      "         [0.3113, 0.4940]],\n",
      "\n",
      "        [[0.7805, 0.5640],\n",
      "         [0.4319, 0.5255],\n",
      "         [0.0519, 0.9494],\n",
      "         [0.5135, 0.5339]],\n",
      "\n",
      "        [[0.8242, 0.8730],\n",
      "         [0.2129, 0.9065],\n",
      "         [0.9342, 0.3878],\n",
      "         [0.4950, 0.7324]],\n",
      "\n",
      "        [[0.1599, 0.6573],\n",
      "         [0.2499, 0.7579],\n",
      "         [0.6039, 0.6597],\n",
      "         [0.2637, 0.9509]],\n",
      "\n",
      "        [[0.9530, 0.5399],\n",
      "         [0.1865, 0.9204],\n",
      "         [0.9100, 0.2500],\n",
      "         [0.2247, 0.9629]],\n",
      "\n",
      "        [[0.1206, 0.2796],\n",
      "         [0.3885, 0.2127],\n",
      "         [0.6636, 0.4561],\n",
      "         [0.1468, 0.9534]]])\n"
     ]
    }
   ],
   "source": [
    "x = torch.rand(8,8)\n",
    "print(x.view(64))#view : 리스트처럼 변환\n",
    "print(x.view(-1, 16))# print(x.view(4,16))\n",
    "print(x.view(-1,4,2))"
   ]
  },
  {
   "cell_type": "code",
   "execution_count": 6,
   "metadata": {},
   "outputs": [
    {
     "data": {
      "text/plain": [
       "tensor([0.9784, 0.0495, 0.1820, 0.8444, 0.8173, 0.3654, 0.1802, 0.1195, 0.7152,\n",
       "        0.4156, 0.4489, 0.8234, 0.4437, 0.6311, 0.8303, 0.7355, 0.3254, 0.8429,\n",
       "        0.2684, 0.3006, 0.6270, 0.7991, 0.3113, 0.4940, 0.7805, 0.5640, 0.4319,\n",
       "        0.5255, 0.0519, 0.9494, 0.5135, 0.5339, 0.8242, 0.8730, 0.2129, 0.9065,\n",
       "        0.9342, 0.3878, 0.4950, 0.7324, 0.1599, 0.6573, 0.2499, 0.7579, 0.6039,\n",
       "        0.6597, 0.2637, 0.9509, 0.9530, 0.5399, 0.1865, 0.9204, 0.9100, 0.2500,\n",
       "        0.2247, 0.9629, 0.1206, 0.2796, 0.3885, 0.2127, 0.6636, 0.4561, 0.1468,\n",
       "        0.9534])"
      ]
     },
     "execution_count": 6,
     "metadata": {},
     "output_type": "execute_result"
    }
   ],
   "source": [
    "x.view(64)#.item()"
   ]
  },
  {
   "cell_type": "code",
   "execution_count": 7,
   "metadata": {},
   "outputs": [
    {
     "data": {
      "text/plain": [
       "34.73768997192383"
      ]
     },
     "execution_count": 7,
     "metadata": {},
     "output_type": "execute_result"
    }
   ],
   "source": [
    "x = x.view(64)\n",
    "torch.sum(x).item() # tensor의 sum > item은 스칼라값만 추출하기"
   ]
  },
  {
   "cell_type": "code",
   "execution_count": null,
   "metadata": {},
   "outputs": [],
   "source": []
  }
 ],
 "metadata": {
  "kernelspec": {
   "display_name": "venv",
   "language": "python",
   "name": "python3"
  },
  "language_info": {
   "codemirror_mode": {
    "name": "ipython",
    "version": 3
   },
   "file_extension": ".py",
   "mimetype": "text/x-python",
   "name": "python",
   "nbconvert_exporter": "python",
   "pygments_lexer": "ipython3",
   "version": "3.10.9"
  },
  "orig_nbformat": 4,
  "vscode": {
   "interpreter": {
    "hash": "ca1ec02494e9c947a84b292165718a4165b7c65dcb367a37ef0b7f0d51e8dba6"
   }
  }
 },
 "nbformat": 4,
 "nbformat_minor": 2
}
